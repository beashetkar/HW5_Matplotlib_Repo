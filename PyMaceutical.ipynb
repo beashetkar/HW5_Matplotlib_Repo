{
 "cells": [
  {
   "cell_type": "code",
   "execution_count": 1,
   "metadata": {
    "collapsed": true
   },
   "outputs": [],
   "source": [
    "# Import Dependencies \n",
    "# Numpy for calculations and matplotlib for charting\n",
    "\n",
    "import numpy as np\n",
    "import matplotlib.pyplot as plt\n",
    "import pandas as pd\n",
    "import os\n",
    "from scipy.stats import sem\n"
   ]
  },
  {
   "cell_type": "code",
   "execution_count": 2,
   "metadata": {
    "collapsed": true
   },
   "outputs": [],
   "source": [
    "# CSV files to load\n",
    "clinical_csv = os.path.join('raw_data', 'clinicaltrial_data.csv')\n",
    "mouse_csv = os.path.join('raw_data', 'mouse_drug_data.csv')\n",
    "\n",
    "# Read the data files into pandas\n",
    "clinical_df = pd.read_csv(clinical_csv)\n",
    "mouse_df = pd.read_csv(mouse_csv)\n"
   ]
  },
  {
   "cell_type": "code",
   "execution_count": 3,
   "metadata": {},
   "outputs": [
    {
     "data": {
      "text/plain": [
       "Mouse ID              1893\n",
       "Timepoint             1893\n",
       "Tumor Volume (mm3)    1893\n",
       "Metastatic Sites      1893\n",
       "dtype: int64"
      ]
     },
     "execution_count": 3,
     "metadata": {},
     "output_type": "execute_result"
    }
   ],
   "source": [
    "clinical_df.count()"
   ]
  },
  {
   "cell_type": "code",
   "execution_count": 4,
   "metadata": {
    "collapsed": true
   },
   "outputs": [],
   "source": [
    "# Drop duplicate rows in clinical_df except for the first ocurrence.\n",
    "\n",
    "new_clinical_df=clinical_df.drop_duplicates(keep=\"first\")"
   ]
  },
  {
   "cell_type": "code",
   "execution_count": 5,
   "metadata": {},
   "outputs": [
    {
     "data": {
      "text/plain": [
       "Mouse ID              1892\n",
       "Timepoint             1892\n",
       "Tumor Volume (mm3)    1892\n",
       "Metastatic Sites      1892\n",
       "dtype: int64"
      ]
     },
     "execution_count": 5,
     "metadata": {},
     "output_type": "execute_result"
    }
   ],
   "source": [
    "new_clinical_df.count()"
   ]
  },
  {
   "cell_type": "code",
   "execution_count": 6,
   "metadata": {
    "collapsed": true
   },
   "outputs": [],
   "source": [
    "# Merge the data into a single dataset.\n",
    "\n",
    "total_data=pd.merge(new_clinical_df, mouse_df, how='inner',on='Mouse ID')\n"
   ]
  },
  {
   "cell_type": "code",
   "execution_count": 7,
   "metadata": {},
   "outputs": [
    {
     "data": {
      "text/plain": [
       "Index(['Mouse ID', 'Timepoint', 'Tumor Volume (mm3)', 'Metastatic Sites',\n",
       "       'Drug'],\n",
       "      dtype='object')"
      ]
     },
     "execution_count": 7,
     "metadata": {},
     "output_type": "execute_result"
    }
   ],
   "source": [
    "total_data.columns"
   ]
  },
  {
   "cell_type": "code",
   "execution_count": 8,
   "metadata": {},
   "outputs": [
    {
     "data": {
      "text/html": [
       "<div>\n",
       "<style>\n",
       "    .dataframe thead tr:only-child th {\n",
       "        text-align: right;\n",
       "    }\n",
       "\n",
       "    .dataframe thead th {\n",
       "        text-align: left;\n",
       "    }\n",
       "\n",
       "    .dataframe tbody tr th {\n",
       "        vertical-align: top;\n",
       "    }\n",
       "</style>\n",
       "<table border=\"1\" class=\"dataframe\">\n",
       "  <thead>\n",
       "    <tr style=\"text-align: right;\">\n",
       "      <th></th>\n",
       "      <th>Mouse ID</th>\n",
       "      <th>Timepoint</th>\n",
       "      <th>Tumor Volume (mm3)</th>\n",
       "      <th>Metastatic Sites</th>\n",
       "      <th>Drug</th>\n",
       "    </tr>\n",
       "  </thead>\n",
       "  <tbody>\n",
       "    <tr>\n",
       "      <th>0</th>\n",
       "      <td>b128</td>\n",
       "      <td>0</td>\n",
       "      <td>45.000000</td>\n",
       "      <td>0</td>\n",
       "      <td>Capomulin</td>\n",
       "    </tr>\n",
       "    <tr>\n",
       "      <th>1</th>\n",
       "      <td>b128</td>\n",
       "      <td>5</td>\n",
       "      <td>45.651331</td>\n",
       "      <td>0</td>\n",
       "      <td>Capomulin</td>\n",
       "    </tr>\n",
       "    <tr>\n",
       "      <th>2</th>\n",
       "      <td>b128</td>\n",
       "      <td>10</td>\n",
       "      <td>43.270852</td>\n",
       "      <td>0</td>\n",
       "      <td>Capomulin</td>\n",
       "    </tr>\n",
       "    <tr>\n",
       "      <th>3</th>\n",
       "      <td>b128</td>\n",
       "      <td>15</td>\n",
       "      <td>43.784893</td>\n",
       "      <td>0</td>\n",
       "      <td>Capomulin</td>\n",
       "    </tr>\n",
       "    <tr>\n",
       "      <th>4</th>\n",
       "      <td>b128</td>\n",
       "      <td>20</td>\n",
       "      <td>42.731552</td>\n",
       "      <td>0</td>\n",
       "      <td>Capomulin</td>\n",
       "    </tr>\n",
       "  </tbody>\n",
       "</table>\n",
       "</div>"
      ],
      "text/plain": [
       "  Mouse ID  Timepoint  Tumor Volume (mm3)  Metastatic Sites       Drug\n",
       "0     b128          0           45.000000                 0  Capomulin\n",
       "1     b128          5           45.651331                 0  Capomulin\n",
       "2     b128         10           43.270852                 0  Capomulin\n",
       "3     b128         15           43.784893                 0  Capomulin\n",
       "4     b128         20           42.731552                 0  Capomulin"
      ]
     },
     "execution_count": 8,
     "metadata": {},
     "output_type": "execute_result"
    }
   ],
   "source": [
    "total_data.head()"
   ]
  },
  {
   "cell_type": "code",
   "execution_count": 9,
   "metadata": {
    "collapsed": true
   },
   "outputs": [],
   "source": [
    "# Create a compound index\n",
    "\n",
    "total_data_df = total_data.set_index([\"Mouse ID\",\"Timepoint\"])   # , \"Tumor Volume\" need 3 columns to make a unique index"
   ]
  },
  {
   "cell_type": "code",
   "execution_count": 10,
   "metadata": {
    "collapsed": true
   },
   "outputs": [],
   "source": [
    "#########################################################################################################\n",
    "# PART I .- Create a scatter plot that shows how the tumor volume changes over time for each treatment.\n",
    "#\n",
    "# Analyze the data to show how four treatments (Capomulin, Infubinol, Ketapril, and Placebo) compare.\n",
    "#\n",
    "#########################################################################################################"
   ]
  },
  {
   "cell_type": "code",
   "execution_count": 11,
   "metadata": {
    "scrolled": false
   },
   "outputs": [
    {
     "data": {
      "text/html": [
       "<div>\n",
       "<style>\n",
       "    .dataframe thead tr:only-child th {\n",
       "        text-align: right;\n",
       "    }\n",
       "\n",
       "    .dataframe thead th {\n",
       "        text-align: left;\n",
       "    }\n",
       "\n",
       "    .dataframe tbody tr th {\n",
       "        vertical-align: top;\n",
       "    }\n",
       "</style>\n",
       "<table border=\"1\" class=\"dataframe\">\n",
       "  <thead>\n",
       "    <tr style=\"text-align: right;\">\n",
       "      <th></th>\n",
       "      <th>Mouse ID</th>\n",
       "      <th>Timepoint</th>\n",
       "      <th>Tumor Volume (mm3)</th>\n",
       "      <th>Metastatic Sites</th>\n",
       "      <th>Drug</th>\n",
       "    </tr>\n",
       "  </thead>\n",
       "  <tbody>\n",
       "    <tr>\n",
       "      <th>0</th>\n",
       "      <td>b128</td>\n",
       "      <td>0</td>\n",
       "      <td>45.000000</td>\n",
       "      <td>0</td>\n",
       "      <td>Capomulin</td>\n",
       "    </tr>\n",
       "    <tr>\n",
       "      <th>1</th>\n",
       "      <td>b128</td>\n",
       "      <td>5</td>\n",
       "      <td>45.651331</td>\n",
       "      <td>0</td>\n",
       "      <td>Capomulin</td>\n",
       "    </tr>\n",
       "    <tr>\n",
       "      <th>2</th>\n",
       "      <td>b128</td>\n",
       "      <td>10</td>\n",
       "      <td>43.270852</td>\n",
       "      <td>0</td>\n",
       "      <td>Capomulin</td>\n",
       "    </tr>\n",
       "    <tr>\n",
       "      <th>3</th>\n",
       "      <td>b128</td>\n",
       "      <td>15</td>\n",
       "      <td>43.784893</td>\n",
       "      <td>0</td>\n",
       "      <td>Capomulin</td>\n",
       "    </tr>\n",
       "    <tr>\n",
       "      <th>4</th>\n",
       "      <td>b128</td>\n",
       "      <td>20</td>\n",
       "      <td>42.731552</td>\n",
       "      <td>0</td>\n",
       "      <td>Capomulin</td>\n",
       "    </tr>\n",
       "  </tbody>\n",
       "</table>\n",
       "</div>"
      ],
      "text/plain": [
       "  Mouse ID  Timepoint  Tumor Volume (mm3)  Metastatic Sites       Drug\n",
       "0     b128          0           45.000000                 0  Capomulin\n",
       "1     b128          5           45.651331                 0  Capomulin\n",
       "2     b128         10           43.270852                 0  Capomulin\n",
       "3     b128         15           43.784893                 0  Capomulin\n",
       "4     b128         20           42.731552                 0  Capomulin"
      ]
     },
     "execution_count": 11,
     "metadata": {},
     "output_type": "execute_result"
    }
   ],
   "source": [
    "# Grab DataFrame rows where column has certain values\n",
    "\n",
    "drugs = [\"Capomulin\", \"Infubinol\", \"Ketapril\",\"Placebo\" ]\n",
    "drugs_df = total_data[total_data.Drug.isin(drugs)]\n",
    "drugs_df.head()"
   ]
  },
  {
   "cell_type": "code",
   "execution_count": 12,
   "metadata": {},
   "outputs": [
    {
     "name": "stdout",
     "output_type": "stream",
     "text": [
      "Drug       Capomulin  Infubinol   Ketapril    Placebo\n",
      "Timepoint                                            \n",
      "0          45.000000  45.000000  45.000000  45.000000\n",
      "5          44.266086  47.062001  47.389175  47.125589\n",
      "10         43.084291  49.403909  49.582269  49.423329\n",
      "15         42.064317  51.296397  52.399974  51.359742\n",
      "20         40.716325  53.197691  54.920935  54.364417\n",
      "25         39.939528  55.715252  57.678982  57.482574\n",
      "30         38.769339  58.299397  60.994507  59.809063\n",
      "35         37.816839  60.742461  63.371686  62.420615\n",
      "40         36.958001  63.162824  66.068580  65.052675\n",
      "45         36.236114  65.755562  70.662958  68.084082\n"
     ]
    },
    {
     "data": {
      "text/plain": [
       "Index(['Capomulin', 'Infubinol', 'Ketapril', 'Placebo'], dtype='object', name='Drug')"
      ]
     },
     "execution_count": 12,
     "metadata": {},
     "output_type": "execute_result"
    }
   ],
   "source": [
    "# Pivot Table for average \n",
    "tumor_change_mean = drugs_df.pivot_table(index=['Timepoint'], columns=['Drug'], values='Tumor Volume (mm3)', aggfunc=np.mean)\n",
    "\n",
    "print (tumor_change_mean)\n",
    "tumor_change_mean.columns"
   ]
  },
  {
   "cell_type": "code",
   "execution_count": 13,
   "metadata": {},
   "outputs": [
    {
     "name": "stdout",
     "output_type": "stream",
     "text": [
      "Drug       Capomulin  Infubinol  Ketapril   Placebo\n",
      "Timepoint                                          \n",
      "0           0.000000   0.000000  0.000000  0.000000\n",
      "5           0.448593   0.235102  0.264819  0.218091\n",
      "10          0.702684   0.282346  0.357421  0.402064\n",
      "15          0.838617   0.357705  0.580268  0.614461\n",
      "20          0.909731   0.476210  0.726484  0.839609\n",
      "25          0.881642   0.550315  0.755413  1.034872\n",
      "30          0.934460   0.631061  0.934121  1.218231\n",
      "35          1.052241   0.984155  1.127867  1.287481\n",
      "40          1.223608   1.055220  1.158449  1.370634\n",
      "45          1.223977   1.144427  1.453186  1.351726\n"
     ]
    }
   ],
   "source": [
    "# Pivot Table for standard error \n",
    "tumor_change_sem = drugs_df.pivot_table(index=['Timepoint'], columns=['Drug'], values='Tumor Volume (mm3)', aggfunc=sem)\n",
    "\n",
    "print (tumor_change_sem)"
   ]
  },
  {
   "cell_type": "code",
   "execution_count": 17,
   "metadata": {},
   "outputs": [
    {
     "data": {
      "image/png": "[encoded data removed]",
      "text/plain": [
       "<matplotlib.figure.Figure at 0x1cd06334400>"
      ]
     },
     "metadata": {},
     "output_type": "display_data"
    }
   ],
   "source": [
    "# Generate the Plot \n",
    "\n",
    "plt.title(\"Tumor Response over Treatment\")\n",
    "plt.xlabel(\"Time (days)\")\n",
    "plt.ylabel(\"Tumor volume (mm3)\")\n",
    "plt.grid(True)\n",
    "plt.figsize=(10, 5)\n",
    "\n",
    "plt.xlim(0,drugs_df['Timepoint'].max()+1)\n",
    "\n",
    "plt.ylim(30,drugs_df['Tumor Volume (mm3)'].max()+5)\n",
    "\n",
    "#Plotting graphs (with error bars)\n",
    "plt.errorbar(tumor_change_mean.index, tumor_change_mean.loc[:,'Capomulin'], yerr= tumor_change_sem.loc[:,'Capomulin'],\n",
    "             marker=\"o\", markersize= 5, linestyle='dashed', linewidth=1, color=\"b\")\n",
    "plt.errorbar(tumor_change_mean.index, tumor_change_mean.loc[:,'Infubinol'], yerr= tumor_change_sem.loc[:,'Infubinol'],\n",
    "             marker=\"^\", markersize= 5, linestyle='dashed', linewidth=1, color=\"r\")\n",
    "plt.errorbar(tumor_change_mean.index, tumor_change_mean.loc[:,'Ketapril'], yerr= tumor_change_sem.loc[:,'Ketapril'],\n",
    "             marker=\"s\", markersize= 5, linestyle='dashed', linewidth=1, color=\"g\")\n",
    "plt.errorbar(tumor_change_mean.index, tumor_change_mean.loc[:,'Placebo'], yerr= tumor_change_sem.loc[:,'Placebo'],\n",
    "             marker=\"d\", markersize= 5, linestyle='dashed', linewidth=1, color=\"k\")\n",
    "\n",
    "# Include a legend in best location\n",
    "plt.legend(loc=\"best\", fancybox=True)\n",
    "\n",
    "# Save the figure\n",
    "plt.savefig('charts/PyMaceutical_fig1.png')\n",
    "\n",
    "# Show the figure\n",
    "plt.show()\n"
   ]
  },
  {
   "cell_type": "code",
   "execution_count": 18,
   "metadata": {
    "collapsed": true
   },
   "outputs": [],
   "source": [
    "#########################################################################################################\n",
    "# PART II .- Create a scatter plot that shows how the number of metastatic (cancer spreading) sites \n",
    "#           changes over time for each treatment.\n",
    "#\n",
    "# Analyze the data to show how four treatments (Capomulin, Infubinol, Ketapril, and Placebo) compare.\n",
    "#\n",
    "#########################################################################################################\n"
   ]
  },
  {
   "cell_type": "code",
   "execution_count": 19,
   "metadata": {},
   "outputs": [],
   "source": [
    "# Pivot Table for average \n",
    "metastatic_mean = drugs_df.pivot_table(index=['Timepoint'], columns=['Drug'], values='Metastatic Sites', aggfunc=np.mean)\n",
    "\n",
    "\n",
    "# Pivot Table for standard error \n",
    "metastatic_sem = drugs_df.pivot_table(index=['Timepoint'], columns=['Drug'], values='Metastatic Sites', aggfunc=sem)\n"
   ]
  },
  {
   "cell_type": "code",
   "execution_count": 20,
   "metadata": {},
   "outputs": [
    {
     "data": {
      "image/png": "[encoded data removed]",
      "text/plain": [
       "<matplotlib.figure.Figure at 0x1cd07663588>"
      ]
     },
     "metadata": {},
     "output_type": "display_data"
    }
   ],
   "source": [
    "# Generate the Plot \n",
    "\n",
    "plt.title(\"Metastatic Spread During Treatment\")\n",
    "plt.xlabel(\"Treatment Duration (days)\")\n",
    "plt.ylabel(\"Metastatic Sites\")\n",
    "plt.grid(True)\n",
    "\n",
    "# Getting the limits\n",
    "plt.xlim(0,drugs_df['Timepoint'].max()+1)\n",
    "plt.ylim(0,drugs_df['Metastatic Sites'].max())\n",
    "\n",
    "#Plotting graphs (with error bars)\n",
    "plt.errorbar(metastatic_mean.index, metastatic_mean.loc[:,'Capomulin'], yerr= metastatic_sem.loc[:,'Capomulin'],\n",
    "             marker=\"o\", linestyle='dashed', linewidth=1, color=\"b\")\n",
    "plt.errorbar(metastatic_mean.index, metastatic_mean.loc[:,'Infubinol'], yerr= metastatic_sem.loc[:,'Infubinol'],\n",
    "             marker=\"^\", linestyle='dashed', linewidth=1, color=\"r\")\n",
    "plt.errorbar(metastatic_mean.index, metastatic_mean.loc[:,'Ketapril'], yerr= metastatic_sem.loc[:,'Ketapril'],\n",
    "             marker=\"s\", linestyle='dashed', linewidth=1, color=\"g\")\n",
    "plt.errorbar(metastatic_mean.index, metastatic_mean.loc[:,'Placebo'], yerr= metastatic_sem.loc[:,'Placebo'],\n",
    "             marker=\"d\", linestyle='dashed', linewidth=1, color=\"k\")\n",
    "\n",
    "# Include a legend in best location\n",
    "plt.legend(loc=\"best\", fancybox=True)\n",
    "\n",
    "# Save the figure\n",
    "plt.savefig('charts/PyMaceutical_fig2.png')\n",
    "\n",
    "# Show the figure\n",
    "plt.show()"
   ]
  },
  {
   "cell_type": "code",
   "execution_count": null,
   "metadata": {
    "collapsed": true
   },
   "outputs": [],
   "source": [
    "###################################################################################################################\n",
    "# PART III .- Create a scatter plot that shows the number of mice still alive through the course of treatment \n",
    "#             (Survival Rate).\n",
    "#\n",
    "# Analyze the data to show how four treatments (Capomulin, Infubinol, Ketapril, and Placebo) compare.\n",
    "#\n",
    "####################################################################################################################"
   ]
  },
  {
   "cell_type": "code",
   "execution_count": 21,
   "metadata": {},
   "outputs": [
    {
     "data": {
      "image/png": "[encoded data removed]",
      "text/plain": [
       "<matplotlib.figure.Figure at 0x1cd076634e0>"
      ]
     },
     "metadata": {},
     "output_type": "display_data"
    }
   ],
   "source": [
    "# Generate the Plot \n",
    "\n",
    "plt.style.use('ggplot')\n",
    "plt.figsize=(15, 12)\n",
    "plt.title(\"Survival During Treatment\")\n",
    "plt.xlabel(\"Treatment Duration (days)\")\n",
    "plt.ylabel(\"Survival Rate %\")\n",
    "plt.grid(True)\n",
    "\n",
    "x =[0,5,10,15,20,25,30,35,40,45]\n",
    "\n",
    "# Count how many times each mice appears in our group\n",
    "\n",
    "drugs={}\n",
    "\n",
    "for d in drugs_df.Drug.unique():\n",
    "    drugs[d] = drugs_df.loc[drugs_df['Drug']==d,:]\n",
    "    \n",
    "    # Calculate the Percentage of mice alive\n",
    "    survival_rate = drugs[d].groupby(['Drug','Timepoint'])['Tumor Volume (mm3)'].count()\n",
    "    survival_rate = 100 *survival_rate /25\n",
    "    \n",
    "    # Plotting the Survival Rate for each Treatment\n",
    "    plt.scatter(x, survival_rate, label=d, alpha=0.6,linestyle='dashed', linewidth=2 )\n",
    "      \n",
    "# Include a legend in best location\n",
    "plt.legend(loc=\"best\", fancybox=True)\n",
    "\n",
    "# Save the figure\n",
    "plt.savefig('charts/PyMaceutical_fig3.png')\n",
    "\n",
    "# Show the figure\n",
    "plt.show()"
   ]
  },
  {
   "cell_type": "code",
   "execution_count": 22,
   "metadata": {},
   "outputs": [
    {
     "data": {
      "text/plain": [
       "<bound method NDFrame.describe of Drug\n",
       "Capomulin   -19.475303\n",
       "Infubinol    46.123472\n",
       "Ketapril     57.028795\n",
       "Placebo      51.297960\n",
       "dtype: float64>"
      ]
     },
     "execution_count": 22,
     "metadata": {},
     "output_type": "execute_result"
    }
   ],
   "source": [
    "###################################################################################################################\n",
    "# PART IV .- Creating a bar graph that compares the total % tumor volume change for each drug across the full 45 days.            \n",
    "# (Survival Rate).\n",
    "#\n",
    "# Analyze the data to show how four treatments (Capomulin, Infubinol, Ketapril, and Placebo) compare.\n",
    "#\n",
    "# Your bar graph should indicate tumor growth as red and tumor reduction as green. It should also include a label with the \n",
    "#  percentage change for each bar. \n",
    "#\n",
    "####################################################################################################################"
   ]
  },
  {
   "cell_type": "code",
   "execution_count": 31,
   "metadata": {},
   "outputs": [
    {
     "data": {
      "image/png": "[encoded data removed]",
      "text/plain": [
       "<matplotlib.figure.Figure at 0x1cd07cf86a0>"
      ]
     },
     "metadata": {},
     "output_type": "display_data"
    }
   ],
   "source": [
    "# Take the pivot table information of part I and calculate the percentage change for each drug\n",
    " \n",
    "tumor_percentage_df = ((tumor_change_mean.iloc[-1] - tumor_change_mean.iloc[0])/tumor_change_mean.iloc[0])*100\n",
    "drugs = [\"Capomulin\", \"Infubinol\", \"Ketapril\", \"Placebo\"]\n",
    "\n",
    "# Plot the results, splitting the data between passing and failing drugs\n",
    "fig, ax =plt.subplots()\n",
    "\n",
    "# Set x values\n",
    "x_values = np.arange(len(tumor_percentage_df))\n",
    "\n",
    "tumor_red_Pass = ax.bar(x_values[0], tumor_percentage_df[0], 1, color='green', alpha=0.5 )\n",
    "tumor_red_Fail = ax.bar(x_values[1:], tumor_percentage_df[1:], 1, color='red', alpha=0.5 )\n",
    "\n",
    "ax.set_title(\"Tumor Change Over 45 Day Treatment\")\n",
    "ax.set_xlabel(\"Drugs\")\n",
    "ax.set_ylabel(\"% Tumor Volume Change\")\n",
    "\n",
    "tick_locations = [value for value in x_values]\n",
    "ax.set_xticks(tick_locations)\n",
    "ax.set_xticklabels((\"Capomulin\", \"Infubinol\", \"Ketapril\", \"Placebo\"))\n",
    "ax.grid(True)\n",
    "\n",
    "ax.set_ylim(-25, tumor_percentage_df[1:].max()+10 )\n",
    "\n",
    "# Use autolabel function to label the percentages of changes\n",
    "\n",
    "def autolabel(rects, ax):\n",
    "    \n",
    "    # Get y-axis height to calculate label position from.\n",
    "    (y_bottom, y_top) = ax.get_ylim()\n",
    "    y_height = y_top - y_bottom\n",
    "\n",
    "    for rect in rects:\n",
    "        height = rect.get_height()\n",
    "        \n",
    "        # Fraction of axis height taken up by this rectangle\n",
    "        p_height = (height / y_height)\n",
    "\n",
    "        # If we can fit the label above the column, do that;\n",
    "        # otherwise, put it inside the column.\n",
    "        \n",
    "        if p_height > 0.90: \n",
    "            label_position = height - (y_height * 0.05)\n",
    "        else:\n",
    "            label_position = height + (y_height * 0.01)\n",
    "        ax.text(rect.get_x() + rect.get_width()/2., label_position,'%d%%' % int(height), ha='center', va='bottom', color='black')\n",
    "\n",
    "# Call functions to implement the function calls\n",
    "\n",
    "autolabel(tumor_red_Pass, ax)\n",
    "autolabel(tumor_red_Fail, ax)\n",
    "\n",
    "# Include a legend in best location\n",
    "plt.legend(loc=\"best\", fancybox=True)\n",
    "\n",
    "# Save the figure\n",
    "plt.savefig('charts/PyMaceutical_fig4.png')\n",
    "\n",
    "# Show the figure\n",
    "plt.show()"
   ]
  },
  {
   "cell_type": "code",
   "execution_count": null,
   "metadata": {
    "collapsed": true
   },
   "outputs": [],
   "source": []
  }
 ],
 "metadata": {
  "kernelspec": {
   "display_name": "Python 3",
   "language": "python",
   "name": "python3"
  },
  "language_info": {
   "codemirror_mode": {
    "name": "ipython",
    "version": 3
   },
   "file_extension": ".py",
   "mimetype": "text/x-python",
   "name": "python",
   "nbconvert_exporter": "python",
   "pygments_lexer": "ipython3",
   "version": "3.6.3"
  }
 },
 "nbformat": 4,
 "nbformat_minor": 2
}
